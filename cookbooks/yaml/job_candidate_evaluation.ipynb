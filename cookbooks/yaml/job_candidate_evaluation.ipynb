{
 "cells": [
  {
   "cell_type": "markdown",
   "metadata": {
    "id": "tQ1qYR87LF-t"
   },
   "source": [
    "# Job Candidate Evaluation and Follow Up Agents\n",
    "\n",
    "[![Open In Colab](https://colab.research.google.com/assets/colab-badge.svg)](https://colab.research.google.com/github/MervinPraison/PraisonAI/blob/main/cookbooks/notebooks/job_candidate_evaluation_agents.ipynb)\n"
   ]
  },
  {
   "cell_type": "markdown",
   "metadata": {
    "id": "Xqx4aq5bLYsb"
   },
   "source": [
    "# Dependencies"
   ]
  },
  {
   "cell_type": "code",
   "execution_count": null,
   "metadata": {
    "id": "SK_RlNpMJ6WL"
   },
   "outputs": [],
   "source": [
    "# Install dependencies without output\n",
    "%pip install praisonai[crewai] > /dev/null"
   ]
  },
  {
   "cell_type": "markdown",
   "metadata": {
    "id": "gvT_LORaLdhj"
   },
   "source": [
    "# Tools\n",
    "\n"
   ]
  },
  {
   "cell_type": "code",
   "execution_count": 22,
   "metadata": {
    "id": "g9tVvGnrLewp"
   },
   "outputs": [],
   "source": [
    "# This specific code does not leverage any of the tools (may require FileInputTool when the job application/CV input mechanism has been defined in code)\n",
    "# This program requires updating so as to accomodate one or several input for the Job Application based on which the Agents will manage the evaluation & follow up\n"
   ]
  },
  {
   "cell_type": "markdown",
   "metadata": {
    "id": "QSmgxWDOLBHd"
   },
   "source": [
    "## YAML Prompt\n"
   ]
  },
  {
   "cell_type": "code",
   "execution_count": null,
   "metadata": {
    "id": "9c7sHhrFK2M9"
   },
   "outputs": [],
   "source": [
    "agent_yaml = \"\"\"\n",
    "framework: \"crewai\"\n",
    "topic: \"Candidate Evaluation and Follow-up Process\"\n",
    "roles:\n",
    "  email_followup_agent:\n",
    "    role: \"HR Coordinator\"\n",
    "    backstory: |\n",
    "      An HR professional named Sarah at CrewAI with excellent communication skills, dedicated to crafting personalized, thoughtful emails for job candidates.\n",
    "    goal: |\n",
    "      Compose personalized follow-up emails based on the candidate's bio and whether they are being pursued for the job, maintaining a positive and professional tone.\n",
    "    verbose: true\n",
    "    allow_delegation: false\n",
    "    tasks:\n",
    "      send_followup_email:\n",
    "        description: |\n",
    "          Compose personalized follow-up emails for candidates based on their bio and job progress status.\n",
    "          If the candidate is being pursued, request their availability for a Zoom call; otherwise, send a polite rejection email.\n",
    "        expected_output: |\n",
    "          A respectful, personalized email inviting the candidate for a Zoom call or politely declining their application.\n",
    "  hr_evaluation_agent:\n",
    "    role: \"Senior HR Evaluation Expert\"\n",
    "    backstory: |\n",
    "      An experienced HR expert known for effectively assessing candidate profiles, scoring them based on skills, experience, and alignment with the job description.\n",
    "    goal: |\n",
    "      Evaluate candidates' qualifications against the job description, providing detailed reasoning for each score.\n",
    "    verbose: true\n",
    "    allow_delegation: false\n",
    "    tasks:\n",
    "      evaluate_candidate:\n",
    "        description: |\n",
    "          Evaluate a candidate's bio against the job description, considering skill alignment, experience, cultural fit, and growth potential.\n",
    "        expected_output: |\n",
    "          A specific score (1 to 100) and detailed reasoning covering the candidate’s skill match, experience, cultural fit, and growth potential.\n",
    "dependencies: []\n",
    "\"\"\""
   ]
  },
  {
   "cell_type": "markdown",
   "metadata": {
    "id": "dp95UmADx85q"
   },
   "source": [
    "## Main"
   ]
  },
  {
   "cell_type": "code",
   "execution_count": 21,
   "metadata": {
    "colab": {
     "base_uri": "https://localhost:8080/",
     "height": 1000
    },
    "id": "uPeHbzlPx85q",
    "outputId": "a79d7512-6254-40f6-c989-54f43394a6a8"
   },
   "outputs": [
    {
     "name": "stdout",
     "output_type": "stream",
     "text": [
      "\u001b[1m\u001b[95m [2024-11-01 15:23:25][DEBUG]: == Working Agent: HR Coordinator\u001b[00m\n",
      "\u001b[1m\u001b[95m [2024-11-01 15:23:25][INFO]: == Starting Task: Compose personalized follow-up emails for candidates based on their bio and job progress status.\n",
      "If the candidate is being pursued, request their availability for a Zoom call; otherwise, send a polite rejection email.\n",
      "\u001b[00m\n",
      "\n",
      "\n",
      "\u001b[1m> Entering new CrewAgentExecutor chain...\u001b[0m\n",
      "\u001b[32;1m\u001b[1;3mI now can give a great answer.\n",
      "\n",
      "Final Answer:\n",
      "\n",
      "**Email for a Candidate Being Pursued:**\n",
      "\n",
      "Subject: Exciting Next Steps in Your Application Process with CrewAI\n",
      "\n",
      "Dear [Candidate's Name],\n",
      "\n",
      "I hope this message finds you well. I want to extend my gratitude for your interest in the [Job Title] position at CrewAI and for sharing your impressive background with us. Your experience in [specific skill or experience related to the job] truly stands out, and we believe your talents could be a great match for our team.\n",
      "\n",
      "We are excited to move forward in the interview process and would like to schedule a Zoom call to discuss this opportunity further. Could you please share your availability for the coming week? We are eager to learn more about your experiences and discuss how you can contribute to CrewAI's success.\n",
      "\n",
      "Thank you once again for considering a career with us. We look forward to the possibility of working together and will do our best to accommodate your schedule.\n",
      "\n",
      "Warm regards,\n",
      "\n",
      "Sarah [Your Last Name]  \n",
      "HR Coordinator  \n",
      "CrewAI  \n",
      "[Your Contact Information]  \n",
      "\n",
      "---\n",
      "\n",
      "**Email for a Candidate Not Being Pursued:**\n",
      "\n",
      "Subject: Update on Your Application with CrewAI\n",
      "\n",
      "Dear [Candidate's Name],\n",
      "\n",
      "I hope you are doing well. I want to sincerely thank you for applying for the [Job Title] position at CrewAI and for taking the time to share your qualifications with us. We genuinely appreciate the effort you put into your application.\n",
      "\n",
      "After careful consideration, we have decided to move forward with other candidates who more closely match the specific skills and experience required for this role. This decision was not easy due to the high caliber of applicants like yourself.\n",
      "\n",
      "We encourage you to apply for future openings that align with your expertise, as we would love to see your application again. Thank you once again for your interest in joining CrewAI, and we wish you the very best in your job search and future professional endeavors.\n",
      "\n",
      "Warm regards,\n",
      "\n",
      "Sarah [Your Last Name]  \n",
      "HR Coordinator  \n",
      "CrewAI  \n",
      "[Your Contact Information]\u001b[0m\n",
      "\n",
      "\u001b[1m> Finished chain.\u001b[0m\n",
      "\u001b[1m\u001b[92m [2024-11-01 15:23:32][DEBUG]: == [HR Coordinator] Task output: **Email for a Candidate Being Pursued:**\n",
      "\n",
      "Subject: Exciting Next Steps in Your Application Process with CrewAI\n",
      "\n",
      "Dear [Candidate's Name],\n",
      "\n",
      "I hope this message finds you well. I want to extend my gratitude for your interest in the [Job Title] position at CrewAI and for sharing your impressive background with us. Your experience in [specific skill or experience related to the job] truly stands out, and we believe your talents could be a great match for our team.\n",
      "\n",
      "We are excited to move forward in the interview process and would like to schedule a Zoom call to discuss this opportunity further. Could you please share your availability for the coming week? We are eager to learn more about your experiences and discuss how you can contribute to CrewAI's success.\n",
      "\n",
      "Thank you once again for considering a career with us. We look forward to the possibility of working together and will do our best to accommodate your schedule.\n",
      "\n",
      "Warm regards,\n",
      "\n",
      "Sarah [Your Last Name]  \n",
      "HR Coordinator  \n",
      "CrewAI  \n",
      "[Your Contact Information]  \n",
      "\n",
      "---\n",
      "\n",
      "**Email for a Candidate Not Being Pursued:**\n",
      "\n",
      "Subject: Update on Your Application with CrewAI\n",
      "\n",
      "Dear [Candidate's Name],\n",
      "\n",
      "I hope you are doing well. I want to sincerely thank you for applying for the [Job Title] position at CrewAI and for taking the time to share your qualifications with us. We genuinely appreciate the effort you put into your application.\n",
      "\n",
      "After careful consideration, we have decided to move forward with other candidates who more closely match the specific skills and experience required for this role. This decision was not easy due to the high caliber of applicants like yourself.\n",
      "\n",
      "We encourage you to apply for future openings that align with your expertise, as we would love to see your application again. Thank you once again for your interest in joining CrewAI, and we wish you the very best in your job search and future professional endeavors.\n",
      "\n",
      "Warm regards,\n",
      "\n",
      "Sarah [Your Last Name]  \n",
      "HR Coordinator  \n",
      "CrewAI  \n",
      "[Your Contact Information]\n",
      "\n",
      "\u001b[00m\n",
      "\u001b[1m\u001b[95m [2024-11-01 15:23:32][DEBUG]: == Working Agent: Senior HR Evaluation Expert\u001b[00m\n",
      "\u001b[1m\u001b[95m [2024-11-01 15:23:32][INFO]: == Starting Task: Evaluate a candidate's bio against the job description, considering skill alignment, experience, cultural fit, and growth potential.\n",
      "\u001b[00m\n",
      "\n",
      "\n",
      "\u001b[1m> Entering new CrewAgentExecutor chain...\u001b[0m\n",
      "\u001b[32;1m\u001b[1;3mI now can give a great answer.   \n",
      "Final Answer: My best complete final answer to the task is as follows:  \n",
      "\n",
      "To evaluate a candidate's qualifications against the job description, we need to consider several key factors: skill match, experience, cultural fit, and growth potential. Here's a detailed assessment based on these criteria:\n",
      "\n",
      "1. **Skill Match:**  \n",
      "   The candidate's skills should align closely with the requirements listed in the job description. For instance, if the position requires expertise in data analysis and the candidate has a strong background in statistical software and data interpretation, this would be a significant positive. Conversely, if there are gaps between the candidate's skills and the job requirements, it would result in a lower score in this area.\n",
      "\n",
      "2. **Experience:**  \n",
      "   This involves evaluating the candidate's past roles and responsibilities to determine how well their experience aligns with the job at CrewAI. Relevant past experiences, such as working in similar industries or roles, managing projects of similar scale, or having a track record of achievements in the field, would enhance the candidate's score. A lack of relevant experience or a mismatch in the level of responsibility can lower the score.\n",
      "\n",
      "3. **Cultural Fit:**  \n",
      "   Assessing cultural fit is about understanding how well the candidate's values, work style, and personality align with CrewAI's company culture. For example, if CrewAI values innovation and the candidate has demonstrated creativity and a penchant for innovative solutions in their previous roles, this would be a positive indicator.\n",
      "\n",
      "4. **Growth Potential:**  \n",
      "   This considers the candidate's ability to grow within the company and adapt to future challenges. A candidate who has shown continuous professional development and a willingness to learn new skills would score higher in this area.\n",
      "\n",
      "Based on these criteria, the candidate can be scored on a scale from 1 to 100. Let's assign a hypothetical score for illustration:\n",
      "\n",
      "- Skill Match: 85  \n",
      "- Experience: 80  \n",
      "- Cultural Fit: 90  \n",
      "- Growth Potential: 88  \n",
      "\n",
      "**Overall Score: 86/100**\n",
      "\n",
      "**Detailed Reasoning:**  \n",
      "The candidate demonstrates a strong alignment with the required skills (85/100), indicating they possess most of the technical abilities and knowledge necessary for the role. Their experience (80/100) is relevant, though there may be some areas where they've had less exposure compared to the ideal candidate profile. The cultural fit (90/100) is excellent, suggesting they share similar values and work ethics with CrewAI's team, which is crucial for long-term satisfaction and performance. Finally, their growth potential (88/100) is high, showing a readiness to take on more responsibilities and adapt to new challenges, making them a valuable long-term investment for the company.\n",
      "\n",
      "These factors together lead to an overall score of 86, indicating a strong candidate likely to succeed in the role at CrewAI.\u001b[0m\n",
      "\n",
      "\u001b[1m> Finished chain.\u001b[0m\n",
      "\u001b[1m\u001b[92m [2024-11-01 15:23:48][DEBUG]: == [Senior HR Evaluation Expert] Task output: My best complete final answer to the task is as follows:  \n",
      "\n",
      "To evaluate a candidate's qualifications against the job description, we need to consider several key factors: skill match, experience, cultural fit, and growth potential. Here's a detailed assessment based on these criteria:\n",
      "\n",
      "1. **Skill Match:**  \n",
      "   The candidate's skills should align closely with the requirements listed in the job description. For instance, if the position requires expertise in data analysis and the candidate has a strong background in statistical software and data interpretation, this would be a significant positive. Conversely, if there are gaps between the candidate's skills and the job requirements, it would result in a lower score in this area.\n",
      "\n",
      "2. **Experience:**  \n",
      "   This involves evaluating the candidate's past roles and responsibilities to determine how well their experience aligns with the job at CrewAI. Relevant past experiences, such as working in similar industries or roles, managing projects of similar scale, or having a track record of achievements in the field, would enhance the candidate's score. A lack of relevant experience or a mismatch in the level of responsibility can lower the score.\n",
      "\n",
      "3. **Cultural Fit:**  \n",
      "   Assessing cultural fit is about understanding how well the candidate's values, work style, and personality align with CrewAI's company culture. For example, if CrewAI values innovation and the candidate has demonstrated creativity and a penchant for innovative solutions in their previous roles, this would be a positive indicator.\n",
      "\n",
      "4. **Growth Potential:**  \n",
      "   This considers the candidate's ability to grow within the company and adapt to future challenges. A candidate who has shown continuous professional development and a willingness to learn new skills would score higher in this area.\n",
      "\n",
      "Based on these criteria, the candidate can be scored on a scale from 1 to 100. Let's assign a hypothetical score for illustration:\n",
      "\n",
      "- Skill Match: 85  \n",
      "- Experience: 80  \n",
      "- Cultural Fit: 90  \n",
      "- Growth Potential: 88  \n",
      "\n",
      "**Overall Score: 86/100**\n",
      "\n",
      "**Detailed Reasoning:**  \n",
      "The candidate demonstrates a strong alignment with the required skills (85/100), indicating they possess most of the technical abilities and knowledge necessary for the role. Their experience (80/100) is relevant, though there may be some areas where they've had less exposure compared to the ideal candidate profile. The cultural fit (90/100) is excellent, suggesting they share similar values and work ethics with CrewAI's team, which is crucial for long-term satisfaction and performance. Finally, their growth potential (88/100) is high, showing a readiness to take on more responsibilities and adapt to new challenges, making them a valuable long-term investment for the company.\n",
      "\n",
      "These factors together lead to an overall score of 86, indicating a strong candidate likely to succeed in the role at CrewAI.\n",
      "\n",
      "\u001b[00m\n"
     ]
    },
    {
     "data": {
      "text/html": [
       "<pre style=\"white-space:pre;overflow-x:auto;line-height:normal;font-family:Menlo,'DejaVu Sans Mono',consolas,'Courier New',monospace\">### Task Output ###\n",
       "My best complete final answer to the task is as follows:  \n",
       "\n",
       "To evaluate a candidate's qualifications against the job description, we need to consider several key factors: \n",
       "skill match, experience, cultural fit, and growth potential. Here's a detailed assessment based on these criteria:\n",
       "\n",
       "<span style=\"color: #008080; text-decoration-color: #008080; font-weight: bold\">1</span>. **Skill Match:**  \n",
       "   The candidate's skills should align closely with the requirements listed in the job description. For instance, \n",
       "if the position requires expertise in data analysis and the candidate has a strong background in statistical \n",
       "software and data interpretation, this would be a significant positive. Conversely, if there are gaps between the \n",
       "candidate's skills and the job requirements, it would result in a lower score in this area.\n",
       "\n",
       "<span style=\"color: #008080; text-decoration-color: #008080; font-weight: bold\">2</span>. **Experience:**  \n",
       "   This involves evaluating the candidate's past roles and responsibilities to determine how well their experience \n",
       "aligns with the job at CrewAI. Relevant past experiences, such as working in similar industries or roles, managing \n",
       "projects of similar scale, or having a track record of achievements in the field, would enhance the candidate's \n",
       "score. A lack of relevant experience or a mismatch in the level of responsibility can lower the score.\n",
       "\n",
       "<span style=\"color: #008080; text-decoration-color: #008080; font-weight: bold\">3</span>. **Cultural Fit:**  \n",
       "   Assessing cultural fit is about understanding how well the candidate's values, work style, and personality align\n",
       "with CrewAI's company culture. For example, if CrewAI values innovation and the candidate has demonstrated \n",
       "creativity and a penchant for innovative solutions in their previous roles, this would be a positive indicator.\n",
       "\n",
       "<span style=\"color: #008080; text-decoration-color: #008080; font-weight: bold\">4</span>. **Growth Potential:**  \n",
       "   This considers the candidate's ability to grow within the company and adapt to future challenges. A candidate \n",
       "who has shown continuous professional development and a willingness to learn new skills would score higher in this \n",
       "area.\n",
       "\n",
       "Based on these criteria, the candidate can be scored on a scale from <span style=\"color: #008080; text-decoration-color: #008080; font-weight: bold\">1</span> to <span style=\"color: #008080; text-decoration-color: #008080; font-weight: bold\">100</span>. Let's assign a hypothetical score \n",
       "for illustration:\n",
       "\n",
       "- Skill Match: <span style=\"color: #008080; text-decoration-color: #008080; font-weight: bold\">85</span>  \n",
       "- Experience: <span style=\"color: #008080; text-decoration-color: #008080; font-weight: bold\">80</span>  \n",
       "- Cultural Fit: <span style=\"color: #008080; text-decoration-color: #008080; font-weight: bold\">90</span>  \n",
       "- Growth Potential: <span style=\"color: #008080; text-decoration-color: #008080; font-weight: bold\">88</span>  \n",
       "\n",
       "**Overall Score: <span style=\"color: #008080; text-decoration-color: #008080; font-weight: bold\">86</span>/<span style=\"color: #008080; text-decoration-color: #008080; font-weight: bold\">100</span>**\n",
       "\n",
       "**Detailed Reasoning:**  \n",
       "The candidate demonstrates a strong alignment with the required skills <span style=\"font-weight: bold\">(</span><span style=\"color: #008080; text-decoration-color: #008080; font-weight: bold\">85</span>/<span style=\"color: #008080; text-decoration-color: #008080; font-weight: bold\">100</span><span style=\"font-weight: bold\">)</span>, indicating they possess most of \n",
       "the technical abilities and knowledge necessary for the role. Their experience <span style=\"font-weight: bold\">(</span><span style=\"color: #008080; text-decoration-color: #008080; font-weight: bold\">80</span>/<span style=\"color: #008080; text-decoration-color: #008080; font-weight: bold\">100</span><span style=\"font-weight: bold\">)</span> is relevant, though there \n",
       "may be some areas where they've had less exposure compared to the ideal candidate profile. The cultural fit \n",
       "<span style=\"font-weight: bold\">(</span><span style=\"color: #008080; text-decoration-color: #008080; font-weight: bold\">90</span>/<span style=\"color: #008080; text-decoration-color: #008080; font-weight: bold\">100</span><span style=\"font-weight: bold\">)</span> is excellent, suggesting they share similar values and work ethics with CrewAI's team, which is crucial \n",
       "for long-term satisfaction and performance. Finally, their growth potential <span style=\"font-weight: bold\">(</span><span style=\"color: #008080; text-decoration-color: #008080; font-weight: bold\">88</span>/<span style=\"color: #008080; text-decoration-color: #008080; font-weight: bold\">100</span><span style=\"font-weight: bold\">)</span> is high, showing a readiness \n",
       "to take on more responsibilities and adapt to new challenges, making them a valuable long-term investment for the \n",
       "company.\n",
       "\n",
       "These factors together lead to an overall score of <span style=\"color: #008080; text-decoration-color: #008080; font-weight: bold\">86</span>, indicating a strong candidate likely to succeed in the role \n",
       "at CrewAI.\n",
       "</pre>\n"
      ],
      "text/plain": [
       "### Task Output ###\n",
       "My best complete final answer to the task is as follows:  \n",
       "\n",
       "To evaluate a candidate's qualifications against the job description, we need to consider several key factors: \n",
       "skill match, experience, cultural fit, and growth potential. Here's a detailed assessment based on these criteria:\n",
       "\n",
       "\u001b[1;36m1\u001b[0m. **Skill Match:**  \n",
       "   The candidate's skills should align closely with the requirements listed in the job description. For instance, \n",
       "if the position requires expertise in data analysis and the candidate has a strong background in statistical \n",
       "software and data interpretation, this would be a significant positive. Conversely, if there are gaps between the \n",
       "candidate's skills and the job requirements, it would result in a lower score in this area.\n",
       "\n",
       "\u001b[1;36m2\u001b[0m. **Experience:**  \n",
       "   This involves evaluating the candidate's past roles and responsibilities to determine how well their experience \n",
       "aligns with the job at CrewAI. Relevant past experiences, such as working in similar industries or roles, managing \n",
       "projects of similar scale, or having a track record of achievements in the field, would enhance the candidate's \n",
       "score. A lack of relevant experience or a mismatch in the level of responsibility can lower the score.\n",
       "\n",
       "\u001b[1;36m3\u001b[0m. **Cultural Fit:**  \n",
       "   Assessing cultural fit is about understanding how well the candidate's values, work style, and personality align\n",
       "with CrewAI's company culture. For example, if CrewAI values innovation and the candidate has demonstrated \n",
       "creativity and a penchant for innovative solutions in their previous roles, this would be a positive indicator.\n",
       "\n",
       "\u001b[1;36m4\u001b[0m. **Growth Potential:**  \n",
       "   This considers the candidate's ability to grow within the company and adapt to future challenges. A candidate \n",
       "who has shown continuous professional development and a willingness to learn new skills would score higher in this \n",
       "area.\n",
       "\n",
       "Based on these criteria, the candidate can be scored on a scale from \u001b[1;36m1\u001b[0m to \u001b[1;36m100\u001b[0m. Let's assign a hypothetical score \n",
       "for illustration:\n",
       "\n",
       "- Skill Match: \u001b[1;36m85\u001b[0m  \n",
       "- Experience: \u001b[1;36m80\u001b[0m  \n",
       "- Cultural Fit: \u001b[1;36m90\u001b[0m  \n",
       "- Growth Potential: \u001b[1;36m88\u001b[0m  \n",
       "\n",
       "**Overall Score: \u001b[1;36m86\u001b[0m/\u001b[1;36m100\u001b[0m**\n",
       "\n",
       "**Detailed Reasoning:**  \n",
       "The candidate demonstrates a strong alignment with the required skills \u001b[1m(\u001b[0m\u001b[1;36m85\u001b[0m/\u001b[1;36m100\u001b[0m\u001b[1m)\u001b[0m, indicating they possess most of \n",
       "the technical abilities and knowledge necessary for the role. Their experience \u001b[1m(\u001b[0m\u001b[1;36m80\u001b[0m/\u001b[1;36m100\u001b[0m\u001b[1m)\u001b[0m is relevant, though there \n",
       "may be some areas where they've had less exposure compared to the ideal candidate profile. The cultural fit \n",
       "\u001b[1m(\u001b[0m\u001b[1;36m90\u001b[0m/\u001b[1;36m100\u001b[0m\u001b[1m)\u001b[0m is excellent, suggesting they share similar values and work ethics with CrewAI's team, which is crucial \n",
       "for long-term satisfaction and performance. Finally, their growth potential \u001b[1m(\u001b[0m\u001b[1;36m88\u001b[0m/\u001b[1;36m100\u001b[0m\u001b[1m)\u001b[0m is high, showing a readiness \n",
       "to take on more responsibilities and adapt to new challenges, making them a valuable long-term investment for the \n",
       "company.\n",
       "\n",
       "These factors together lead to an overall score of \u001b[1;36m86\u001b[0m, indicating a strong candidate likely to succeed in the role \n",
       "at CrewAI.\n"
      ]
     },
     "metadata": {},
     "output_type": "display_data"
    },
    {
     "name": "stdout",
     "output_type": "stream",
     "text": [
      "None\n"
     ]
    }
   ],
   "source": [
    "import os\n",
    "from praisonai import PraisonAI\n",
    "from google.colab import userdata\n",
    "\n",
    "# Create a PraisonAI instance with the agent_yaml content\n",
    "praisonai = PraisonAI(agent_yaml=agent_yaml)\n",
    "\n",
    "# Add OPENAI_API_KEY Secrets to Google Colab on the Left Hand Side 🔑 or Enter Manually Below\n",
    "os.environ[\"OPENAI_API_KEY\"] = userdata.get('OPENAI_API_KEY')\n",
    "\n",
    "# Run PraisonAI\n",
    "result = praisonai.run()\n",
    "\n",
    "# Print the result\n",
    "print(result) # 8/10\n"
   ]
  },
  {
   "cell_type": "code",
   "execution_count": null,
   "metadata": {
    "id": "o8P9L0SNPf1r"
   },
   "outputs": [],
   "source": []
  }
 ],
 "metadata": {
  "colab": {
   "provenance": []
  },
  "kernelspec": {
   "display_name": "Python 3",
   "name": "python3"
  },
  "language_info": {
   "name": "python"
  }
 },
 "nbformat": 4,
 "nbformat_minor": 0
}
